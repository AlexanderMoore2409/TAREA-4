{
  "nbformat": 4,
  "nbformat_minor": 0,
  "metadata": {
    "colab": {
      "name": "Tarea 4.ipynb",
      "provenance": [],
      "collapsed_sections": [],
      "authorship_tag": "ABX9TyN+fnNdYresDLoGdAbw33rz",
      "include_colab_link": true
    },
    "kernelspec": {
      "name": "python3",
      "display_name": "Python 3"
    },
    "language_info": {
      "name": "python"
    }
  },
  "cells": [
    {
      "cell_type": "markdown",
      "metadata": {
        "id": "view-in-github",
        "colab_type": "text"
      },
      "source": [
        "<a href=\"https://colab.research.google.com/github/AlexanderMoore2409/TAREA-4/blob/main/Tarea_4.ipynb\" target=\"_parent\"><img src=\"https://colab.research.google.com/assets/colab-badge.svg\" alt=\"Open In Colab\"/></a>"
      ]
    },
    {
      "cell_type": "code",
      "metadata": {
        "colab": {
          "base_uri": "https://localhost:8080/"
        },
        "id": "Auq5i94EO1xB",
        "outputId": "a11d2ead-bfff-459a-910f-c5b6b333b94a"
      },
      "source": [
        "import math\n",
        "valores = (float(input( \"Dame el valor de a: \")), float(input(\"Dame el valor b: \")), float(input(\"Dame el valor de c: \")))\n",
        "\n",
        "def la_chicharronera(datos):\n",
        "  resultados = (valores[1]**2 - (4*datos[0]*datos[2]))\n",
        "  if resultados < 0:\n",
        "    print(\"No tiene solución en valores reales\")\n",
        "  else:\n",
        "    resultados = math.sqrt(valores[1]**2 - (4*datos[0]*datos[2]))\n",
        "    x1 = ((-1*datos[1])+resultado) / (2*datos[0])\n",
        "    x2 = ((-1*datos[1])-resultado) / (2*datos[0])\n",
        "    print(\"\\nX1 = {:.4f}\".format(x1))\n",
        "    print(\"X2 = {:.4f}\".format(x2))\n",
        "\n",
        "la_chicharronera(valores)"
      ],
      "execution_count": 29,
      "outputs": [
        {
          "output_type": "stream",
          "name": "stdout",
          "text": [
            "Dame el valor de a: 13\n",
            "Dame el valor b: 15\n",
            "Dame el valor de c: 16\n",
            "No tiene solución en valores reales\n"
          ]
        }
      ]
    }
  ]
}