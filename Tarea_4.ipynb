{
  "nbformat": 4,
  "nbformat_minor": 0,
  "metadata": {
    "colab": {
      "name": "Tarea 4.ipynb",
      "provenance": [],
      "collapsed_sections": [],
      "authorship_tag": "ABX9TyONG4e2nfJJsKyEy1uTIE3e",
      "include_colab_link": true
    },
    "kernelspec": {
      "name": "python3",
      "display_name": "Python 3"
    },
    "language_info": {
      "name": "python"
    }
  },
  "cells": [
    {
      "cell_type": "markdown",
      "metadata": {
        "id": "view-in-github",
        "colab_type": "text"
      },
      "source": [
        "<a href=\"https://colab.research.google.com/github/AlexanderMoore2409/TAREA-4/blob/main/Tarea_4.ipynb\" target=\"_parent\"><img src=\"https://colab.research.google.com/assets/colab-badge.svg\" alt=\"Open In Colab\"/></a>"
      ]
    },
    {
      "cell_type": "code",
      "metadata": {
        "colab": {
          "base_uri": "https://localhost:8080/"
        },
        "id": "Auq5i94EO1xB",
        "outputId": "7121b2e5-e996-45cd-b2f4-005ad750869d"
      },
      "source": [
        "import math\n",
        "valores = (float(input( \"Dame el valor de a: \")), float(input(\"Dame el valor b: \")), float(input(\"Dame el valor de c: \")))\n",
        "\n",
        "def la_chicharronera(datos):\n",
        "  resultados = (valores[1]**2 - (4*datos[0]*datos[2]))\n",
        "  if resultados < 0:\n",
        "    print(\"No tiene solución en valores reales\")\n",
        "  else:\n",
        "    resultados = math.sqrt(valores[1]**2 - (4*datos[0]*datos[2]))\n",
        "    x1 = ((-1*datos[1])+resultados) / (2*datos[0])\n",
        "    x2 = ((-1*datos[1])-resultados) / (2*datos[0])\n",
        "    print(\"\\nX1 =\".format(x1))\n",
        "    print(\"X2 =\".format(x2))\n",
        "\n",
        "la_chicharronera(valores)"
      ],
      "execution_count": 32,
      "outputs": [
        {
          "output_type": "stream",
          "name": "stdout",
          "text": [
            "Dame el valor de a: -12\n",
            "Dame el valor b: -14\n",
            "Dame el valor de c: -15\n",
            "No tiene solución en valores reales\n"
          ]
        }
      ]
    }
  ]
}